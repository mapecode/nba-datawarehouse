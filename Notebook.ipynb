{
 "cells": [
  {
   "cell_type": "code",
   "execution_count": 2,
   "metadata": {},
   "outputs": [],
   "source": [
    "import pandas as pd"
   ]
  },
  {
   "cell_type": "code",
   "execution_count": 8,
   "metadata": {},
   "outputs": [],
   "source": [
    "# Players DataFrame\n",
    "players_df = pd.read_csv('players_stats.csv')\n",
    "players_df.rename(columns={'Unnamed: 0': 'id'}, inplace=True) # Rename first column\n",
    "#players_df"
   ]
  },
  {
   "cell_type": "code",
   "execution_count": 9,
   "metadata": {},
   "outputs": [],
   "source": [
    "# Teams DataFrame\n",
    "teams_df = pd.read_csv('team_stats.csv')\n",
    "teams_df.rename(columns={'Unnamed: 0': 'id'}, inplace=True) # Rename first column\n",
    "#teams_df"
   ]
  },
  {
   "cell_type": "code",
   "execution_count": 10,
   "metadata": {},
   "outputs": [],
   "source": [
    "# Rookie DataFrame\n",
    "rookie_df = pd.read_csv('rookie_stats.csv')\n",
    "rookie_df = rookie_df.iloc[1:] # Remove first row\n",
    "rookie_df.rename(columns={'Unnamed: 0': 'id'}, inplace=True) # Rename first column\n",
    "#rookie_df"
   ]
  },
  {
   "cell_type": "code",
   "execution_count": null,
   "metadata": {},
   "outputs": [],
   "source": []
  }
 ],
 "metadata": {
  "kernelspec": {
   "display_name": "Python 3",
   "language": "python",
   "name": "python3"
  },
  "language_info": {
   "codemirror_mode": {
    "name": "ipython",
    "version": 3
   },
   "file_extension": ".py",
   "mimetype": "text/x-python",
   "name": "python",
   "nbconvert_exporter": "python",
   "pygments_lexer": "ipython3",
   "version": "3.7.4"
  }
 },
 "nbformat": 4,
 "nbformat_minor": 4
}
