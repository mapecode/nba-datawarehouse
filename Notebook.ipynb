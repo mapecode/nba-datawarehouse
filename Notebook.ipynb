{
 "cells": [
  {
   "cell_type": "code",
   "execution_count": 2,
   "metadata": {},
   "outputs": [],
   "source": [
    "import pandas as pd"
   ]
  },
  {
   "cell_type": "markdown",
   "execution_count": null,
   "metadata": {},
   "outputs": [],
   "source": [
    "# Carga de datos"
   ]
  },
  {
   "cell_type": "code",
   "execution_count": 9,
   "metadata": {},
   "outputs": [],
   "source": [
    "# Players DataFrame\n",
    "players_df = pd.read_csv('players_stats.csv')\n",
    "players_df.rename(columns={'Unnamed: 0': 'id'}, inplace=True) # Rename first column\n",
    "\n",
    "# Teams Abreviation DataFrame\n",
    "teams_abreviation_df = pd.read_csv('team_names.csv')\n",
    "teams_abreviation_df.rename(columns={'Unnamed: 0': 'id'}, inplace=True) # Rename first column\n",
    "\n",
    "# Teams DataFrame\n",
    "teams_df = pd.read_csv('team_stats.csv')\n",
    "teams_df.rename(columns={'Unnamed: 0': 'id'}, inplace=True) # Rename first column\n",
    "teams_df.insert(1, \"Key\",teams_abreviation_df['Key'], False) \n",
    "\n",
    "# Rookie DataFrame\n",
    "rookies_df = pd.read_csv('rookie_stats.csv')\n",
    "rookies_df.rename(columns={'Unnamed: 0': 'id'}, inplace=True) # Rename first column\n"
   ]
  },
  {
   "cell_type": "markdown",
   "execution_count": null,
   "metadata": {},
   "outputs": [],
   "source": [
    "# Limpieza de datos"
   ]
  },
  {
   "cell_type": "markdown",
   "metadata": {},
   "source": [
    "## Borrado de filas con valores nulos"
   ]
  },
  {
   "cell_type": "code",
   "execution_count": 10,
   "metadata": {},
   "outputs": [],
   "source": [
    "players_df = players_df.dropna()\n",
    "teams_df = teams_df.dropna()\n",
    "rookies_df = rookies_df.dropna()"
   ]
  },
  {
   "cell_type": "markdown",
   "execution_count": null,
   "metadata": {},
   "outputs": [],
   "source": [
    "## Elminación de los jugadores que no tiene un equipo válido\n",
    "El equipo de cada jugador debe estar en el dataframe de equipos identicado con el acrónimo correspondiente. Aunque, hay un caso excepcional, cuando un jugador ha estado en varios equipos durante la temporada, se guardan las estadistícas por separado y en total. En este último caso el equipo se identifica con TOT."
   ]
  },
  {
   "cell_type": "code",
   "execution_count": 11,
   "metadata": {},
   "outputs": [],
   "source": [
    "for i, row in players_df.iterrows():\n",
    "    if row['Tm'] == 'TOT':\n",
    "        continue\n",
    "    \n",
    "    if row['Tm'] not in str(teams_df['Key']):\n",
    "        players_df = players_df.drop(index=i)"
   ]
  },
  {
   "cell_type": "markdown",
   "metadata": {},
   "source": [
    "# Volcado de datos en la BD"
   ]
  },
  {
   "cell_type": "markdown",
   "metadata": {},
   "source": [
    "## Creación del DataFrame para la tabla central\n",
    "Este dataframe es una combinación de los 3 dataframes principales (players, teams, rookies)"
   ]
  },
  {
   "cell_type": "code",
   "execution_count": null,
   "metadata": {},
   "outputs": [],
   "source": [
    "for i, row in players_df.iterrows():\n",
    "    "
   ]
  }
 ],
 "metadata": {
  "kernelspec": {
   "display_name": "Python 3",
   "language": "python",
   "name": "python3"
  },
  "language_info": {
   "codemirror_mode": {
    "name": "ipython",
    "version": 3
   },
   "file_extension": ".py",
   "mimetype": "text/x-python",
   "name": "python",
   "nbconvert_exporter": "python",
   "pygments_lexer": "ipython3",
   "version": "3.7.6-final"
  }
 },
 "nbformat": 4,
 "nbformat_minor": 4
}