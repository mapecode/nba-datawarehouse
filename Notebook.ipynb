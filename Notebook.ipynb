{
 "cells": [
  {
   "cell_type": "code",
   "execution_count": 2,
   "metadata": {},
   "outputs": [],
   "source": [
    "import pandas as pd"
   ]
  },
  {
   "cell_type": "markdown",
   "execution_count": null,
   "metadata": {},
   "outputs": [],
   "source": [
    "# Carga de datos"
   ]
  },
  {
   "cell_type": "code",
   "execution_count": 3,
   "metadata": {},
   "outputs": [],
   "source": [
    "# Players DataFrame\n",
    "players_df = pd.read_csv('players_stats.csv')\n",
    "players_df.rename(columns={'Unnamed: 0': 'id'}, inplace=True) # Rename first column\n",
    "\n",
    "# Teams Abreviation DataFrame\n",
    "teams_abreviation_df = pd.read_csv('team_names.csv')\n",
    "teams_abreviation_df.rename(columns={'Unnamed: 0': 'id'}, inplace=True) # Rename first column\n",
    "\n",
    "# Teams DataFrame\n",
    "teams_df = pd.read_csv('team_stats.csv')\n",
    "teams_df.rename(columns={'Unnamed: 0': 'id'}, inplace=True) # Rename first column\n",
    "teams_df.insert(1, \"Key\",teams_abreviation_df['Key'], False) \n",
    "\n",
    "# Rookie DataFrame\n",
    "rookies_df = pd.read_csv('rookie_stats.csv')\n",
    "rookies_df.rename(columns={'Unnamed: 0': 'id'}, inplace=True) # Rename first column\n"
   ]
  },
  {
   "cell_type": "markdown",
   "execution_count": null,
   "metadata": {},
   "outputs": [],
   "source": [
    "# Limpieza de datos"
   ]
  },
  {
   "cell_type": "markdown",
   "metadata": {},
   "source": [
    "## Borrado de columnas que no vamos a usar"
   ]
  },
  {
   "cell_type": "code",
   "execution_count": 4,
   "metadata": {},
   "outputs": [],
   "source": [
    "players_df = players_df.drop('eFG%',1)\n",
    "teams_df = teams_df.drop(['Div', 'MOV/A', 'ORtg/A', 'DRtg/A', 'NRtg/A'],1)\n",
    "rookies_df = rookies_df.drop(['Yrs','MP.1', 'PTS.1', 'TRB.1', 'AST.1'], 1)"
   ]
  },
  {
   "cell_type": "markdown",
   "metadata": {},
   "source": [
    "## Borrado de filas con valores nulos"
   ]
  },
  {
   "cell_type": "code",
   "execution_count": 5,
   "metadata": {},
   "outputs": [],
   "source": [
    "players_df = players_df.dropna()\n",
    "teams_df = teams_df.dropna()\n",
    "rookies_df = rookies_df.dropna()"
   ]
  },
  {
   "cell_type": "markdown",
   "execution_count": null,
   "metadata": {},
   "outputs": [],
   "source": [
    "## Elminación de los jugadores que no tiene un equipo válido\n",
    "El equipo de cada jugador debe estar en el dataframe de equipos identicado con el acrónimo correspondiente. Aunque, hay un caso excepcional, cuando un jugador ha estado en varios equipos durante la temporada, se guardan las estadistícas por separado y en total. En este último caso el equipo se identifica con TOT."
   ]
  },
  {
   "cell_type": "code",
   "execution_count": 6,
   "metadata": {},
   "outputs": [],
   "source": [
    "for i, row in players_df.iterrows():\n",
    "    if row['Tm'] == 'TOT':\n",
    "        continue\n",
    "    \n",
    "    if row['Tm'] not in str(teams_df['Key']):\n",
    "        players_df = players_df.drop(index=i)"
   ]
  },
  {
   "cell_type": "markdown",
   "metadata": {},
   "source": [
    "# Creación de la base de datos"
   ]
  },
  {
   "cell_type": "markdown",
   "metadata": {},
   "source": [
    "## Creación del dataframe de la tabla central"
   ]
  },
  {
   "cell_type": "code",
   "execution_count": 7,
   "metadata": {},
   "outputs": [],
   "source": [
    "central_df = pd.DataFrame(columns=['id_player', 'id_team', 'Player', 'Team','Rookie'])\n",
    "\n",
    "central_df['id_player'] = players_df['id']\n",
    "central_df['Player'] = players_df['Player']\n",
    "\n",
    "for i, row in central_df.iterrows():\n",
    "    # id team\n",
    "    if players_df.loc[i]['Tm'] == 'TOT':\n",
    "        row['id_team'] = 30\n",
    "    else:\n",
    "        row['id_team'] = teams_df.loc[list(teams_df['Key']).index(players_df.loc[i]['Tm'])]['id']\n",
    "\n",
    "\n",
    "    # team name\n",
    "    if row['id_team'] == 30:\n",
    "        row['Team']='Total'\n",
    "    else:\n",
    "        row['Team'] = teams_df.loc[list(teams_df['id']).index(row['id_team'])]['Team']\n",
    "\n",
    "\n",
    "    # is rookie\n",
    "    if row['Player'] in str(rookies_df['Player']):\n",
    "        row['Rookie'] = 1\n",
    "    else:\n",
    "        row['Rookie'] = 0\n",
    "\n",
    "    central_df.loc[i] = row"
   ]
  },
  {
   "cell_type": "code",
   "execution_count": 9,
   "metadata": {},
   "outputs": [
    {
     "data": {
      "text/html": "<div>\n<style scoped>\n    .dataframe tbody tr th:only-of-type {\n        vertical-align: middle;\n    }\n\n    .dataframe tbody tr th {\n        vertical-align: top;\n    }\n\n    .dataframe thead th {\n        text-align: right;\n    }\n</style>\n<table border=\"1\" class=\"dataframe\">\n  <thead>\n    <tr style=\"text-align: right;\">\n      <th></th>\n      <th>id_player</th>\n      <th>id_team</th>\n      <th>Player</th>\n      <th>Team</th>\n      <th>Rookie</th>\n    </tr>\n  </thead>\n  <tbody>\n    <tr>\n      <th>0</th>\n      <td>0</td>\n      <td>9</td>\n      <td>Álex Abrines</td>\n      <td>Oklahoma City Thunder</td>\n      <td>0</td>\n    </tr>\n    <tr>\n      <th>2</th>\n      <td>2</td>\n      <td>26</td>\n      <td>Jaylen Adams</td>\n      <td>Atlanta Hawks</td>\n      <td>1</td>\n    </tr>\n    <tr>\n      <th>3</th>\n      <td>3</td>\n      <td>9</td>\n      <td>Steven Adams</td>\n      <td>Oklahoma City Thunder</td>\n      <td>0</td>\n    </tr>\n    <tr>\n      <th>4</th>\n      <td>4</td>\n      <td>15</td>\n      <td>Bam Adebayo</td>\n      <td>Miami Heat</td>\n      <td>0</td>\n    </tr>\n    <tr>\n      <th>5</th>\n      <td>5</td>\n      <td>30</td>\n      <td>Deng Adel</td>\n      <td>Total</td>\n      <td>1</td>\n    </tr>\n    <tr>\n      <th>...</th>\n      <td>...</td>\n      <td>...</td>\n      <td>...</td>\n      <td>...</td>\n      <td>...</td>\n    </tr>\n    <tr>\n      <th>721</th>\n      <td>721</td>\n      <td>24</td>\n      <td>Delon Wright</td>\n      <td>Memphis Grizzlies</td>\n      <td>0</td>\n    </tr>\n    <tr>\n      <th>722</th>\n      <td>722</td>\n      <td>8</td>\n      <td>Guerschon Yabusele</td>\n      <td>Boston Celtics</td>\n      <td>0</td>\n    </tr>\n    <tr>\n      <th>724</th>\n      <td>724</td>\n      <td>10</td>\n      <td>Thaddeus Young</td>\n      <td>Indiana Pacers</td>\n      <td>0</td>\n    </tr>\n    <tr>\n      <th>725</th>\n      <td>725</td>\n      <td>26</td>\n      <td>Trae Young</td>\n      <td>Atlanta Hawks</td>\n      <td>1</td>\n    </tr>\n    <tr>\n      <th>727</th>\n      <td>727</td>\n      <td>30</td>\n      <td>Tyler Zeller</td>\n      <td>Total</td>\n      <td>0</td>\n    </tr>\n  </tbody>\n</table>\n<p>578 rows × 5 columns</p>\n</div>",
      "text/plain": "     id_player id_team              Player                   Team Rookie\n0            0       9        Álex Abrines  Oklahoma City Thunder      0\n2            2      26        Jaylen Adams          Atlanta Hawks      1\n3            3       9        Steven Adams  Oklahoma City Thunder      0\n4            4      15         Bam Adebayo             Miami Heat      0\n5            5      30           Deng Adel                  Total      1\n..         ...     ...                 ...                    ...    ...\n721        721      24        Delon Wright      Memphis Grizzlies      0\n722        722       8  Guerschon Yabusele         Boston Celtics      0\n724        724      10      Thaddeus Young         Indiana Pacers      0\n725        725      26          Trae Young          Atlanta Hawks      1\n727        727      30        Tyler Zeller                  Total      0\n\n[578 rows x 5 columns]"
     },
     "execution_count": 9,
     "metadata": {},
     "output_type": "execute_result"
    }
   ],
   "source": []
  },
  {
   "cell_type": "code",
   "execution_count": null,
   "metadata": {},
   "outputs": [],
   "source": []
  }
 ],
 "metadata": {
  "kernelspec": {
   "display_name": "Python 3",
   "language": "python",
   "name": "python3"
  },
  "language_info": {
   "codemirror_mode": {
    "name": "ipython",
    "version": 3
   },
   "file_extension": ".py",
   "mimetype": "text/x-python",
   "name": "python",
   "nbconvert_exporter": "python",
   "pygments_lexer": "ipython3",
   "version": "3.7.6-final"
  }
 },
 "nbformat": 4,
 "nbformat_minor": 4
}