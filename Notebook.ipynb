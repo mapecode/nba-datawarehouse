{
 "cells": [
  {
   "cell_type": "code",
   "execution_count": 1,
   "metadata": {},
   "outputs": [],
   "source": [
    "import pandas as pd"
   ]
  },
  {
   "cell_type": "code",
   "execution_count": 5,
   "metadata": {},
   "outputs": [
    {
     "data": {
      "text/html": "<div>\n<style scoped>\n    .dataframe tbody tr th:only-of-type {\n        vertical-align: middle;\n    }\n\n    .dataframe tbody tr th {\n        vertical-align: top;\n    }\n\n    .dataframe thead th {\n        text-align: right;\n    }\n</style>\n<table border=\"1\" class=\"dataframe\">\n  <thead>\n    <tr style=\"text-align: right;\">\n      <th></th>\n      <th>id</th>\n      <th>Player</th>\n      <th>Pos</th>\n      <th>Age</th>\n      <th>Tm</th>\n      <th>G</th>\n      <th>GS</th>\n      <th>MP</th>\n      <th>FG</th>\n      <th>FGA</th>\n      <th>...</th>\n      <th>FT%</th>\n      <th>ORB</th>\n      <th>DRB</th>\n      <th>TRB</th>\n      <th>AST</th>\n      <th>STL</th>\n      <th>BLK</th>\n      <th>TOV</th>\n      <th>PF</th>\n      <th>PTS</th>\n    </tr>\n  </thead>\n  <tbody>\n    <tr>\n      <th>0</th>\n      <td>0</td>\n      <td>Álex Abrines</td>\n      <td>SG</td>\n      <td>25.0</td>\n      <td>OKC</td>\n      <td>31.0</td>\n      <td>2.0</td>\n      <td>588.0</td>\n      <td>56.0</td>\n      <td>157.0</td>\n      <td>...</td>\n      <td>0.923</td>\n      <td>5.0</td>\n      <td>43.0</td>\n      <td>48.0</td>\n      <td>20.0</td>\n      <td>17.0</td>\n      <td>6.0</td>\n      <td>14.0</td>\n      <td>53.0</td>\n      <td>165.0</td>\n    </tr>\n    <tr>\n      <th>1</th>\n      <td>1</td>\n      <td>Quincy Acy</td>\n      <td>PF</td>\n      <td>28.0</td>\n      <td>PHO</td>\n      <td>10.0</td>\n      <td>0.0</td>\n      <td>123.0</td>\n      <td>4.0</td>\n      <td>18.0</td>\n      <td>...</td>\n      <td>0.700</td>\n      <td>3.0</td>\n      <td>22.0</td>\n      <td>25.0</td>\n      <td>8.0</td>\n      <td>1.0</td>\n      <td>4.0</td>\n      <td>4.0</td>\n      <td>24.0</td>\n      <td>17.0</td>\n    </tr>\n    <tr>\n      <th>2</th>\n      <td>2</td>\n      <td>Jaylen Adams</td>\n      <td>PG</td>\n      <td>22.0</td>\n      <td>ATL</td>\n      <td>34.0</td>\n      <td>1.0</td>\n      <td>428.0</td>\n      <td>38.0</td>\n      <td>110.0</td>\n      <td>...</td>\n      <td>0.778</td>\n      <td>11.0</td>\n      <td>49.0</td>\n      <td>60.0</td>\n      <td>65.0</td>\n      <td>14.0</td>\n      <td>5.0</td>\n      <td>28.0</td>\n      <td>45.0</td>\n      <td>108.0</td>\n    </tr>\n    <tr>\n      <th>3</th>\n      <td>3</td>\n      <td>Steven Adams</td>\n      <td>C</td>\n      <td>25.0</td>\n      <td>OKC</td>\n      <td>80.0</td>\n      <td>80.0</td>\n      <td>2669.0</td>\n      <td>481.0</td>\n      <td>809.0</td>\n      <td>...</td>\n      <td>0.500</td>\n      <td>391.0</td>\n      <td>369.0</td>\n      <td>760.0</td>\n      <td>124.0</td>\n      <td>117.0</td>\n      <td>76.0</td>\n      <td>135.0</td>\n      <td>204.0</td>\n      <td>1108.0</td>\n    </tr>\n    <tr>\n      <th>4</th>\n      <td>4</td>\n      <td>Bam Adebayo</td>\n      <td>C</td>\n      <td>21.0</td>\n      <td>MIA</td>\n      <td>82.0</td>\n      <td>28.0</td>\n      <td>1913.0</td>\n      <td>280.0</td>\n      <td>486.0</td>\n      <td>...</td>\n      <td>0.735</td>\n      <td>165.0</td>\n      <td>432.0</td>\n      <td>597.0</td>\n      <td>184.0</td>\n      <td>71.0</td>\n      <td>65.0</td>\n      <td>121.0</td>\n      <td>203.0</td>\n      <td>729.0</td>\n    </tr>\n    <tr>\n      <th>...</th>\n      <td>...</td>\n      <td>...</td>\n      <td>...</td>\n      <td>...</td>\n      <td>...</td>\n      <td>...</td>\n      <td>...</td>\n      <td>...</td>\n      <td>...</td>\n      <td>...</td>\n      <td>...</td>\n      <td>...</td>\n      <td>...</td>\n      <td>...</td>\n      <td>...</td>\n      <td>...</td>\n      <td>...</td>\n      <td>...</td>\n      <td>...</td>\n      <td>...</td>\n      <td>...</td>\n    </tr>\n    <tr>\n      <th>729</th>\n      <td>729</td>\n      <td>Tyler Zeller</td>\n      <td>C</td>\n      <td>29.0</td>\n      <td>MEM</td>\n      <td>4.0</td>\n      <td>1.0</td>\n      <td>82.0</td>\n      <td>16.0</td>\n      <td>28.0</td>\n      <td>...</td>\n      <td>0.778</td>\n      <td>9.0</td>\n      <td>9.0</td>\n      <td>18.0</td>\n      <td>3.0</td>\n      <td>1.0</td>\n      <td>3.0</td>\n      <td>4.0</td>\n      <td>16.0</td>\n      <td>46.0</td>\n    </tr>\n    <tr>\n      <th>730</th>\n      <td>730</td>\n      <td>Ante Žižić</td>\n      <td>C</td>\n      <td>22.0</td>\n      <td>CLE</td>\n      <td>59.0</td>\n      <td>25.0</td>\n      <td>1082.0</td>\n      <td>183.0</td>\n      <td>331.0</td>\n      <td>...</td>\n      <td>0.705</td>\n      <td>108.0</td>\n      <td>212.0</td>\n      <td>320.0</td>\n      <td>53.0</td>\n      <td>13.0</td>\n      <td>22.0</td>\n      <td>61.0</td>\n      <td>113.0</td>\n      <td>459.0</td>\n    </tr>\n    <tr>\n      <th>731</th>\n      <td>731</td>\n      <td>Ivica Zubac</td>\n      <td>C</td>\n      <td>21.0</td>\n      <td>TOT</td>\n      <td>59.0</td>\n      <td>37.0</td>\n      <td>1040.0</td>\n      <td>212.0</td>\n      <td>379.0</td>\n      <td>...</td>\n      <td>0.802</td>\n      <td>115.0</td>\n      <td>247.0</td>\n      <td>362.0</td>\n      <td>63.0</td>\n      <td>14.0</td>\n      <td>51.0</td>\n      <td>70.0</td>\n      <td>137.0</td>\n      <td>525.0</td>\n    </tr>\n    <tr>\n      <th>732</th>\n      <td>732</td>\n      <td>Ivica Zubac</td>\n      <td>C</td>\n      <td>21.0</td>\n      <td>LAL</td>\n      <td>33.0</td>\n      <td>12.0</td>\n      <td>516.0</td>\n      <td>112.0</td>\n      <td>193.0</td>\n      <td>...</td>\n      <td>0.864</td>\n      <td>54.0</td>\n      <td>108.0</td>\n      <td>162.0</td>\n      <td>25.0</td>\n      <td>4.0</td>\n      <td>27.0</td>\n      <td>33.0</td>\n      <td>73.0</td>\n      <td>281.0</td>\n    </tr>\n    <tr>\n      <th>733</th>\n      <td>733</td>\n      <td>Ivica Zubac</td>\n      <td>C</td>\n      <td>21.0</td>\n      <td>LAC</td>\n      <td>26.0</td>\n      <td>25.0</td>\n      <td>524.0</td>\n      <td>100.0</td>\n      <td>186.0</td>\n      <td>...</td>\n      <td>0.733</td>\n      <td>61.0</td>\n      <td>139.0</td>\n      <td>200.0</td>\n      <td>38.0</td>\n      <td>10.0</td>\n      <td>24.0</td>\n      <td>37.0</td>\n      <td>64.0</td>\n      <td>244.0</td>\n    </tr>\n  </tbody>\n</table>\n<p>734 rows × 30 columns</p>\n</div>",
      "text/plain": "      id        Player Pos   Age   Tm     G    GS      MP     FG    FGA  ...  \\\n0      0  Álex Abrines  SG  25.0  OKC  31.0   2.0   588.0   56.0  157.0  ...   \n1      1    Quincy Acy  PF  28.0  PHO  10.0   0.0   123.0    4.0   18.0  ...   \n2      2  Jaylen Adams  PG  22.0  ATL  34.0   1.0   428.0   38.0  110.0  ...   \n3      3  Steven Adams   C  25.0  OKC  80.0  80.0  2669.0  481.0  809.0  ...   \n4      4   Bam Adebayo   C  21.0  MIA  82.0  28.0  1913.0  280.0  486.0  ...   \n..   ...           ...  ..   ...  ...   ...   ...     ...    ...    ...  ...   \n729  729  Tyler Zeller   C  29.0  MEM   4.0   1.0    82.0   16.0   28.0  ...   \n730  730    Ante Žižić   C  22.0  CLE  59.0  25.0  1082.0  183.0  331.0  ...   \n731  731   Ivica Zubac   C  21.0  TOT  59.0  37.0  1040.0  212.0  379.0  ...   \n732  732   Ivica Zubac   C  21.0  LAL  33.0  12.0   516.0  112.0  193.0  ...   \n733  733   Ivica Zubac   C  21.0  LAC  26.0  25.0   524.0  100.0  186.0  ...   \n\n       FT%    ORB    DRB    TRB    AST    STL   BLK    TOV     PF     PTS  \n0    0.923    5.0   43.0   48.0   20.0   17.0   6.0   14.0   53.0   165.0  \n1    0.700    3.0   22.0   25.0    8.0    1.0   4.0    4.0   24.0    17.0  \n2    0.778   11.0   49.0   60.0   65.0   14.0   5.0   28.0   45.0   108.0  \n3    0.500  391.0  369.0  760.0  124.0  117.0  76.0  135.0  204.0  1108.0  \n4    0.735  165.0  432.0  597.0  184.0   71.0  65.0  121.0  203.0   729.0  \n..     ...    ...    ...    ...    ...    ...   ...    ...    ...     ...  \n729  0.778    9.0    9.0   18.0    3.0    1.0   3.0    4.0   16.0    46.0  \n730  0.705  108.0  212.0  320.0   53.0   13.0  22.0   61.0  113.0   459.0  \n731  0.802  115.0  247.0  362.0   63.0   14.0  51.0   70.0  137.0   525.0  \n732  0.864   54.0  108.0  162.0   25.0    4.0  27.0   33.0   73.0   281.0  \n733  0.733   61.0  139.0  200.0   38.0   10.0  24.0   37.0   64.0   244.0  \n\n[734 rows x 30 columns]"
     },
     "execution_count": 5,
     "metadata": {},
     "output_type": "execute_result"
    }
   ],
   "source": [
    "# Players DataFrame\n",
    "players_df = pd.read_csv('players_stats.csv')\n",
    "players_df.rename(columns={'Unnamed: 0': 'id'}, inplace=True) # Rename first column\n",
    "#players_df"
   ]
  },
  {
   "cell_type": "code",
   "execution_count": 3,
   "metadata": {},
   "outputs": [],
   "source": [
    "# Teams DataFrame\n",
    "teams_df = pd.read_csv('team_stats.csv')\n",
    "teams_df = teams_df.iloc[1:] # Remove first row\n",
    "teams_df.rename(columns={'Unnamed: 0': 'id'}, inplace=True) # Rename first column\n",
    "#teams_df"
   ]
  },
  {
   "cell_type": "code",
   "execution_count": 6,
   "metadata": {},
   "outputs": [
    {
     "data": {
      "text/html": "<div>\n<style scoped>\n    .dataframe tbody tr th:only-of-type {\n        vertical-align: middle;\n    }\n\n    .dataframe tbody tr th {\n        vertical-align: top;\n    }\n\n    .dataframe thead th {\n        text-align: right;\n    }\n</style>\n<table border=\"1\" class=\"dataframe\">\n  <thead>\n    <tr style=\"text-align: right;\">\n      <th></th>\n      <th>id</th>\n      <th>Player</th>\n      <th>Debut</th>\n      <th>Age</th>\n      <th>Yrs</th>\n      <th>G</th>\n      <th>MP</th>\n      <th>FG</th>\n      <th>FGA</th>\n      <th>3P</th>\n      <th>...</th>\n      <th>TOV</th>\n      <th>PF</th>\n      <th>PTS</th>\n      <th>FG%</th>\n      <th>3P%</th>\n      <th>FT%</th>\n      <th>MP.1</th>\n      <th>PTS.1</th>\n      <th>TRB.1</th>\n      <th>AST.1</th>\n    </tr>\n  </thead>\n  <tbody>\n    <tr>\n      <th>1</th>\n      <td>1</td>\n      <td>Jaylen Adams</td>\n      <td>Oct 17, '18, ATL @ NYK</td>\n      <td>22.0</td>\n      <td>1.0</td>\n      <td>34.0</td>\n      <td>428.0</td>\n      <td>38.0</td>\n      <td>110.0</td>\n      <td>25.0</td>\n      <td>...</td>\n      <td>28.0</td>\n      <td>45.0</td>\n      <td>108.0</td>\n      <td>0.345</td>\n      <td>0.338</td>\n      <td>0.778</td>\n      <td>12.6</td>\n      <td>3.2</td>\n      <td>1.8</td>\n      <td>1.9</td>\n    </tr>\n    <tr>\n      <th>2</th>\n      <td>2</td>\n      <td>Deng Adel</td>\n      <td>Jan 19, '19, CLE @ DEN</td>\n      <td>21.0</td>\n      <td>1.0</td>\n      <td>19.0</td>\n      <td>194.0</td>\n      <td>11.0</td>\n      <td>36.0</td>\n      <td>6.0</td>\n      <td>...</td>\n      <td>6.0</td>\n      <td>13.0</td>\n      <td>32.0</td>\n      <td>0.306</td>\n      <td>0.261</td>\n      <td>1.000</td>\n      <td>10.2</td>\n      <td>1.7</td>\n      <td>1.0</td>\n      <td>0.3</td>\n    </tr>\n    <tr>\n      <th>3</th>\n      <td>3</td>\n      <td>DeVaughn Akoon-Purcell</td>\n      <td>Oct 23, '18, DEN vs. SAC</td>\n      <td>25.0</td>\n      <td>1.0</td>\n      <td>7.0</td>\n      <td>22.0</td>\n      <td>3.0</td>\n      <td>10.0</td>\n      <td>0.0</td>\n      <td>...</td>\n      <td>2.0</td>\n      <td>4.0</td>\n      <td>7.0</td>\n      <td>0.300</td>\n      <td>0.000</td>\n      <td>0.500</td>\n      <td>3.1</td>\n      <td>1.0</td>\n      <td>0.6</td>\n      <td>0.9</td>\n    </tr>\n    <tr>\n      <th>4</th>\n      <td>4</td>\n      <td>Rawle Alkins</td>\n      <td>Dec 17, '18, CHI @ OKC</td>\n      <td>21.0</td>\n      <td>1.0</td>\n      <td>10.0</td>\n      <td>120.0</td>\n      <td>13.0</td>\n      <td>39.0</td>\n      <td>3.0</td>\n      <td>...</td>\n      <td>8.0</td>\n      <td>7.0</td>\n      <td>37.0</td>\n      <td>0.333</td>\n      <td>0.250</td>\n      <td>0.667</td>\n      <td>12.0</td>\n      <td>3.7</td>\n      <td>2.6</td>\n      <td>1.3</td>\n    </tr>\n    <tr>\n      <th>5</th>\n      <td>5</td>\n      <td>Grayson Allen</td>\n      <td>Oct 22, '18, UTA vs. MEM</td>\n      <td>23.0</td>\n      <td>1.0</td>\n      <td>38.0</td>\n      <td>416.0</td>\n      <td>67.0</td>\n      <td>178.0</td>\n      <td>32.0</td>\n      <td>...</td>\n      <td>33.0</td>\n      <td>47.0</td>\n      <td>211.0</td>\n      <td>0.376</td>\n      <td>0.323</td>\n      <td>0.750</td>\n      <td>10.9</td>\n      <td>5.6</td>\n      <td>0.6</td>\n      <td>0.7</td>\n    </tr>\n    <tr>\n      <th>...</th>\n      <td>...</td>\n      <td>...</td>\n      <td>...</td>\n      <td>...</td>\n      <td>...</td>\n      <td>...</td>\n      <td>...</td>\n      <td>...</td>\n      <td>...</td>\n      <td>...</td>\n      <td>...</td>\n      <td>...</td>\n      <td>...</td>\n      <td>...</td>\n      <td>...</td>\n      <td>...</td>\n      <td>...</td>\n      <td>...</td>\n      <td>...</td>\n      <td>...</td>\n      <td>...</td>\n    </tr>\n    <tr>\n      <th>111</th>\n      <td>111</td>\n      <td>Thomas Welsh</td>\n      <td>Oct 17, '18, DEN @ LAC</td>\n      <td>22.0</td>\n      <td>1.0</td>\n      <td>11.0</td>\n      <td>36.0</td>\n      <td>7.0</td>\n      <td>13.0</td>\n      <td>3.0</td>\n      <td>...</td>\n      <td>1.0</td>\n      <td>3.0</td>\n      <td>18.0</td>\n      <td>0.538</td>\n      <td>0.429</td>\n      <td>0.500</td>\n      <td>3.3</td>\n      <td>1.6</td>\n      <td>0.4</td>\n      <td>0.5</td>\n    </tr>\n    <tr>\n      <th>112</th>\n      <td>112</td>\n      <td>Johnathan Williams</td>\n      <td>Oct 22, '18, LAL vs. SAS</td>\n      <td>23.0</td>\n      <td>1.0</td>\n      <td>24.0</td>\n      <td>372.0</td>\n      <td>65.0</td>\n      <td>110.0</td>\n      <td>0.0</td>\n      <td>...</td>\n      <td>16.0</td>\n      <td>62.0</td>\n      <td>157.0</td>\n      <td>0.591</td>\n      <td>0.000</td>\n      <td>0.563</td>\n      <td>15.5</td>\n      <td>6.5</td>\n      <td>4.1</td>\n      <td>0.5</td>\n    </tr>\n    <tr>\n      <th>113</th>\n      <td>113</td>\n      <td>Kenrich Williams</td>\n      <td>Oct 17, '18, NOP @ HOU</td>\n      <td>24.0</td>\n      <td>1.0</td>\n      <td>46.0</td>\n      <td>1079.0</td>\n      <td>107.0</td>\n      <td>279.0</td>\n      <td>52.0</td>\n      <td>...</td>\n      <td>36.0</td>\n      <td>95.0</td>\n      <td>279.0</td>\n      <td>0.384</td>\n      <td>0.333</td>\n      <td>0.684</td>\n      <td>23.5</td>\n      <td>6.1</td>\n      <td>4.8</td>\n      <td>1.8</td>\n    </tr>\n    <tr>\n      <th>114</th>\n      <td>114</td>\n      <td>Robert Williams</td>\n      <td>Oct 22, '18, BOS vs. ORL</td>\n      <td>21.0</td>\n      <td>1.0</td>\n      <td>32.0</td>\n      <td>283.0</td>\n      <td>36.0</td>\n      <td>51.0</td>\n      <td>0.0</td>\n      <td>...</td>\n      <td>10.0</td>\n      <td>36.0</td>\n      <td>81.0</td>\n      <td>0.706</td>\n      <td>NaN</td>\n      <td>0.600</td>\n      <td>8.8</td>\n      <td>2.5</td>\n      <td>2.5</td>\n      <td>0.2</td>\n    </tr>\n    <tr>\n      <th>115</th>\n      <td>115</td>\n      <td>Trae Young</td>\n      <td>Oct 17, '18, ATL @ NYK</td>\n      <td>20.0</td>\n      <td>1.0</td>\n      <td>81.0</td>\n      <td>2503.0</td>\n      <td>525.0</td>\n      <td>1256.0</td>\n      <td>156.0</td>\n      <td>...</td>\n      <td>308.0</td>\n      <td>140.0</td>\n      <td>1549.0</td>\n      <td>0.418</td>\n      <td>0.324</td>\n      <td>0.829</td>\n      <td>30.9</td>\n      <td>19.1</td>\n      <td>3.7</td>\n      <td>8.1</td>\n    </tr>\n  </tbody>\n</table>\n<p>115 rows × 28 columns</p>\n</div>",
      "text/plain": "      id                  Player                     Debut   Age  Yrs     G  \\\n1      1            Jaylen Adams    Oct 17, '18, ATL @ NYK  22.0  1.0  34.0   \n2      2               Deng Adel    Jan 19, '19, CLE @ DEN  21.0  1.0  19.0   \n3      3  DeVaughn Akoon-Purcell  Oct 23, '18, DEN vs. SAC  25.0  1.0   7.0   \n4      4            Rawle Alkins    Dec 17, '18, CHI @ OKC  21.0  1.0  10.0   \n5      5           Grayson Allen  Oct 22, '18, UTA vs. MEM  23.0  1.0  38.0   \n..   ...                     ...                       ...   ...  ...   ...   \n111  111            Thomas Welsh    Oct 17, '18, DEN @ LAC  22.0  1.0  11.0   \n112  112      Johnathan Williams  Oct 22, '18, LAL vs. SAS  23.0  1.0  24.0   \n113  113        Kenrich Williams    Oct 17, '18, NOP @ HOU  24.0  1.0  46.0   \n114  114         Robert Williams  Oct 22, '18, BOS vs. ORL  21.0  1.0  32.0   \n115  115              Trae Young    Oct 17, '18, ATL @ NYK  20.0  1.0  81.0   \n\n         MP     FG     FGA     3P  ...    TOV     PF     PTS    FG%    3P%  \\\n1     428.0   38.0   110.0   25.0  ...   28.0   45.0   108.0  0.345  0.338   \n2     194.0   11.0    36.0    6.0  ...    6.0   13.0    32.0  0.306  0.261   \n3      22.0    3.0    10.0    0.0  ...    2.0    4.0     7.0  0.300  0.000   \n4     120.0   13.0    39.0    3.0  ...    8.0    7.0    37.0  0.333  0.250   \n5     416.0   67.0   178.0   32.0  ...   33.0   47.0   211.0  0.376  0.323   \n..      ...    ...     ...    ...  ...    ...    ...     ...    ...    ...   \n111    36.0    7.0    13.0    3.0  ...    1.0    3.0    18.0  0.538  0.429   \n112   372.0   65.0   110.0    0.0  ...   16.0   62.0   157.0  0.591  0.000   \n113  1079.0  107.0   279.0   52.0  ...   36.0   95.0   279.0  0.384  0.333   \n114   283.0   36.0    51.0    0.0  ...   10.0   36.0    81.0  0.706    NaN   \n115  2503.0  525.0  1256.0  156.0  ...  308.0  140.0  1549.0  0.418  0.324   \n\n       FT%  MP.1  PTS.1  TRB.1  AST.1  \n1    0.778  12.6    3.2    1.8    1.9  \n2    1.000  10.2    1.7    1.0    0.3  \n3    0.500   3.1    1.0    0.6    0.9  \n4    0.667  12.0    3.7    2.6    1.3  \n5    0.750  10.9    5.6    0.6    0.7  \n..     ...   ...    ...    ...    ...  \n111  0.500   3.3    1.6    0.4    0.5  \n112  0.563  15.5    6.5    4.1    0.5  \n113  0.684  23.5    6.1    4.8    1.8  \n114  0.600   8.8    2.5    2.5    0.2  \n115  0.829  30.9   19.1    3.7    8.1  \n\n[115 rows x 28 columns]"
     },
     "execution_count": 6,
     "metadata": {},
     "output_type": "execute_result"
    }
   ],
   "source": [
    "# Rookie DataFrame\n",
    "rookie_df = pd.read_csv('rookie_stats.csv')\n",
    "rookie_df = rookie_df.iloc[1:] # Remove first row\n",
    "rookie_df.rename(columns={'Unnamed: 0': 'id'}, inplace=True) # Rename first column\n",
    "rookie_df"
   ]
  },
  {
   "cell_type": "code",
   "execution_count": null,
   "metadata": {},
   "outputs": [],
   "source": []
  }
 ],
 "metadata": {
  "kernelspec": {
   "display_name": "Python 3",
   "language": "python",
   "name": "python3"
  },
  "language_info": {
   "codemirror_mode": {
    "name": "ipython",
    "version": 3
   },
   "file_extension": ".py",
   "mimetype": "text/x-python",
   "name": "python",
   "nbconvert_exporter": "python",
   "pygments_lexer": "ipython3",
   "version": "3.7.6-final"
  }
 },
 "nbformat": 4,
 "nbformat_minor": 4
}