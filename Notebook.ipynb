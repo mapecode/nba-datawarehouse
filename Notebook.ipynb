{
 "cells": [
  {
   "cell_type": "code",
   "execution_count": 36,
   "metadata": {},
   "outputs": [],
   "source": [
    "import pandas as pd\n",
    "import sqlite3 as sqlite\n"
   ]
  },
  {
   "cell_type": "markdown",
   "execution_count": null,
   "metadata": {},
   "outputs": [],
   "source": [
    "# Carga de datos"
   ]
  },
  {
   "cell_type": "code",
   "execution_count": 37,
   "metadata": {},
   "outputs": [],
   "source": [
    "# Players DataFrame\n",
    "players_df = pd.read_csv('players_stats.csv')\n",
    "players_df.rename(columns={'Unnamed: 0': 'id'}, inplace=True) # Rename first column\n",
    "\n",
    "# Teams Abreviation DataFrame\n",
    "teams_abreviation_df = pd.read_csv('team_names.csv')\n",
    "teams_abreviation_df.rename(columns={'Unnamed: 0': 'id'}, inplace=True) # Rename first column\n",
    "\n",
    "# Teams DataFrame\n",
    "teams_df = pd.read_csv('team_stats.csv')\n",
    "teams_df.rename(columns={'Unnamed: 0': 'id'}, inplace=True) # Rename first column\n",
    "teams_df.insert(1, \"Key\",teams_abreviation_df['Key'], False) \n",
    "\n",
    "# Rookie DataFrame\n",
    "rookies_df = pd.read_csv('rookie_stats.csv')\n",
    "rookies_df.rename(columns={'Unnamed: 0': 'id'}, inplace=True) # Rename first column\n"
   ]
  },
  {
   "cell_type": "markdown",
   "execution_count": null,
   "metadata": {},
   "outputs": [],
   "source": [
    "# Limpieza de datos"
   ]
  },
  {
   "cell_type": "markdown",
   "metadata": {},
   "source": [
    "## Borrado de columnas que no vamos a usar"
   ]
  },
  {
   "cell_type": "code",
   "execution_count": 38,
   "metadata": {},
   "outputs": [],
   "source": [
    "players_df = players_df.drop('eFG%',1)\n",
    "teams_df = teams_df.drop(['Div', 'MOV/A', 'ORtg/A', 'DRtg/A', 'NRtg/A'],1)\n",
    "rookies_df = rookies_df.drop(['Yrs','MP.1', 'PTS.1', 'TRB.1', 'AST.1'], 1)"
   ]
  },
  {
   "cell_type": "markdown",
   "metadata": {},
   "source": [
    "## Borrado de filas con valores nulos"
   ]
  },
  {
   "cell_type": "code",
   "execution_count": 39,
   "metadata": {},
   "outputs": [],
   "source": [
    "players_df = players_df.dropna()\n",
    "teams_df = teams_df.dropna()\n",
    "rookies_df = rookies_df.dropna()"
   ]
  },
  {
   "cell_type": "markdown",
   "execution_count": null,
   "metadata": {},
   "outputs": [],
   "source": [
    "## Eliminación de los jugadores que no tiene un equipo válido\n",
    "El equipo de cada jugador debe estar en el dataframe de equipos identicado con el acrónimo correspondiente. Aunque, hay un caso excepcional, cuando un jugador ha estado en varios equipos durante la temporada, se guardan las estadistícas por separado y en total. En este último caso el equipo se identifica con TOT."
   ]
  },
  {
   "cell_type": "code",
   "execution_count": 40,
   "metadata": {},
   "outputs": [],
   "source": [
    "for i, row in players_df.iterrows():\n",
    "    if row['Tm'] == 'TOT':\n",
    "        continue\n",
    "    \n",
    "    if row['Tm'] not in list(teams_df['Key']):\n",
    "        players_df = players_df.drop(index=i)"
   ]
  },
  {
   "cell_type": "markdown",
   "metadata": {},
   "source": [
    "## Reiniciar índice \n",
    "El índice empieza en 1 y para evitar errores debe empezar en 0."
   ]
  },
  {
   "cell_type": "code",
   "execution_count": 41,
   "metadata": {},
   "outputs": [],
   "source": [
    "rookies_df = rookies_df.reset_index().drop('index',1)"
   ]
  },
  {
   "cell_type": "markdown",
   "metadata": {},
   "source": [
    "## Creación del dataframe de la tabla central"
   ]
  },
  {
   "cell_type": "code",
   "execution_count": 48,
   "metadata": {},
   "outputs": [],
   "source": [
    "central_df = pd.DataFrame(columns=['id_player', 'id_team', 'Player', 'Team','Rookie'])\n",
    "\n",
    "central_df['id_player'] = players_df['id']\n",
    "central_df['Player'] = players_df['Player']\n",
    "\n",
    "for i, row in central_df.iterrows():\n",
    "    # id team\n",
    "    if players_df.loc[i]['Tm'] == 'TOT':\n",
    "        row['id_team'] = -1 # id for total statistics\n",
    "    else:\n",
    "        row['id_team'] = teams_df.loc[list(teams_df['Key']).index(players_df.loc[i]['Tm'])]['id']\n",
    "\n",
    "\n",
    "    # team name\n",
    "    if row['id_team'] == -1:\n",
    "        row['Team']='Total'\n",
    "    else:\n",
    "        row['Team'] = teams_df.loc[list(teams_df['id']).index(row['id_team'])]['Team']\n",
    "\n",
    "\n",
    "    # is rookie\n",
    "    if row['Player'] in list(rookies_df['Player']):\n",
    "        row['Rookie'] = int(rookies_df.loc[list(rookies_df['Player']).index(row['Player'])]['id'])\n",
    "\n",
    "    central_df.loc[i] = row"
   ]
  },
  {
   "cell_type": "code",
   "execution_count": 46,
   "metadata": {},
   "outputs": [
    {
     "data": {
      "text/html": "<div>\n<style scoped>\n    .dataframe tbody tr th:only-of-type {\n        vertical-align: middle;\n    }\n\n    .dataframe tbody tr th {\n        vertical-align: top;\n    }\n\n    .dataframe thead th {\n        text-align: right;\n    }\n</style>\n<table border=\"1\" class=\"dataframe\">\n  <thead>\n    <tr style=\"text-align: right;\">\n      <th></th>\n      <th>id</th>\n      <th>Key</th>\n      <th>Team</th>\n      <th>Conf</th>\n      <th>W</th>\n      <th>L</th>\n      <th>W/L%</th>\n      <th>MOV</th>\n      <th>ORtg</th>\n      <th>DRtg</th>\n      <th>NRtg</th>\n    </tr>\n  </thead>\n  <tbody>\n    <tr>\n      <td>0</td>\n      <td>26</td>\n      <td>ATL</td>\n      <td>Atlanta Hawks</td>\n      <td>E</td>\n      <td>29.0</td>\n      <td>53.0</td>\n      <td>0.354</td>\n      <td>-6.02</td>\n      <td>108.71</td>\n      <td>114.41</td>\n      <td>-5.70</td>\n    </tr>\n    <tr>\n      <td>1</td>\n      <td>8</td>\n      <td>BOS</td>\n      <td>Boston Celtics</td>\n      <td>E</td>\n      <td>49.0</td>\n      <td>33.0</td>\n      <td>0.598</td>\n      <td>4.44</td>\n      <td>112.78</td>\n      <td>108.35</td>\n      <td>4.43</td>\n    </tr>\n    <tr>\n      <td>2</td>\n      <td>16</td>\n      <td>BKN</td>\n      <td>Brooklyn Nets</td>\n      <td>E</td>\n      <td>42.0</td>\n      <td>40.0</td>\n      <td>0.512</td>\n      <td>-0.07</td>\n      <td>110.30</td>\n      <td>110.36</td>\n      <td>-0.06</td>\n    </tr>\n    <tr>\n      <td>3</td>\n      <td>23</td>\n      <td>CHA</td>\n      <td>Charlotte Hornets</td>\n      <td>E</td>\n      <td>39.0</td>\n      <td>43.0</td>\n      <td>0.476</td>\n      <td>-1.10</td>\n      <td>112.10</td>\n      <td>113.16</td>\n      <td>-1.06</td>\n    </tr>\n    <tr>\n      <td>4</td>\n      <td>27</td>\n      <td>CHI</td>\n      <td>Chicago Bulls</td>\n      <td>E</td>\n      <td>22.0</td>\n      <td>60.0</td>\n      <td>0.268</td>\n      <td>-8.41</td>\n      <td>105.45</td>\n      <td>113.94</td>\n      <td>-8.49</td>\n    </tr>\n    <tr>\n      <td>5</td>\n      <td>30</td>\n      <td>CLE</td>\n      <td>Cleveland Cavaliers</td>\n      <td>E</td>\n      <td>19.0</td>\n      <td>63.0</td>\n      <td>0.232</td>\n      <td>-9.61</td>\n      <td>108.50</td>\n      <td>118.54</td>\n      <td>-10.04</td>\n    </tr>\n    <tr>\n      <td>6</td>\n      <td>19</td>\n      <td>DAL</td>\n      <td>Dallas Mavericks</td>\n      <td>W</td>\n      <td>33.0</td>\n      <td>49.0</td>\n      <td>0.402</td>\n      <td>-1.28</td>\n      <td>110.19</td>\n      <td>111.41</td>\n      <td>-1.22</td>\n    </tr>\n    <tr>\n      <td>7</td>\n      <td>7</td>\n      <td>DEN</td>\n      <td>Denver Nuggets</td>\n      <td>W</td>\n      <td>54.0</td>\n      <td>28.0</td>\n      <td>0.659</td>\n      <td>3.95</td>\n      <td>113.76</td>\n      <td>109.62</td>\n      <td>4.14</td>\n    </tr>\n    <tr>\n      <td>8</td>\n      <td>17</td>\n      <td>DET</td>\n      <td>Detroit Pistons</td>\n      <td>E</td>\n      <td>41.0</td>\n      <td>41.0</td>\n      <td>0.500</td>\n      <td>-0.24</td>\n      <td>109.93</td>\n      <td>110.13</td>\n      <td>-0.20</td>\n    </tr>\n    <tr>\n      <td>9</td>\n      <td>2</td>\n      <td>GSW</td>\n      <td>Golden State Warriors</td>\n      <td>W</td>\n      <td>57.0</td>\n      <td>25.0</td>\n      <td>0.695</td>\n      <td>6.46</td>\n      <td>116.63</td>\n      <td>110.24</td>\n      <td>6.39</td>\n    </tr>\n    <tr>\n      <td>10</td>\n      <td>5</td>\n      <td>HOU</td>\n      <td>Houston Rockets</td>\n      <td>W</td>\n      <td>53.0</td>\n      <td>29.0</td>\n      <td>0.646</td>\n      <td>4.77</td>\n      <td>116.25</td>\n      <td>111.43</td>\n      <td>4.82</td>\n    </tr>\n    <tr>\n      <td>11</td>\n      <td>10</td>\n      <td>IND</td>\n      <td>Indiana Pacers</td>\n      <td>E</td>\n      <td>48.0</td>\n      <td>34.0</td>\n      <td>0.585</td>\n      <td>3.33</td>\n      <td>110.62</td>\n      <td>107.23</td>\n      <td>3.39</td>\n    </tr>\n    <tr>\n      <td>12</td>\n      <td>13</td>\n      <td>LAC</td>\n      <td>Los Angeles Clippers</td>\n      <td>W</td>\n      <td>48.0</td>\n      <td>34.0</td>\n      <td>0.585</td>\n      <td>0.85</td>\n      <td>113.14</td>\n      <td>112.33</td>\n      <td>0.81</td>\n    </tr>\n    <tr>\n      <td>13</td>\n      <td>22</td>\n      <td>LAL</td>\n      <td>Los Angeles Lakers</td>\n      <td>W</td>\n      <td>37.0</td>\n      <td>45.0</td>\n      <td>0.451</td>\n      <td>-1.72</td>\n      <td>108.52</td>\n      <td>110.18</td>\n      <td>-1.66</td>\n    </tr>\n    <tr>\n      <td>14</td>\n      <td>24</td>\n      <td>MEM</td>\n      <td>Memphis Grizzlies</td>\n      <td>W</td>\n      <td>33.0</td>\n      <td>49.0</td>\n      <td>0.402</td>\n      <td>-2.60</td>\n      <td>106.96</td>\n      <td>109.66</td>\n      <td>-2.70</td>\n    </tr>\n    <tr>\n      <td>15</td>\n      <td>15</td>\n      <td>MIA</td>\n      <td>Miami Heat</td>\n      <td>E</td>\n      <td>39.0</td>\n      <td>43.0</td>\n      <td>0.476</td>\n      <td>-0.23</td>\n      <td>108.22</td>\n      <td>108.35</td>\n      <td>-0.13</td>\n    </tr>\n    <tr>\n      <td>16</td>\n      <td>1</td>\n      <td>MIL</td>\n      <td>Milwaukee Bucks</td>\n      <td>E</td>\n      <td>60.0</td>\n      <td>22.0</td>\n      <td>0.732</td>\n      <td>8.87</td>\n      <td>114.23</td>\n      <td>105.76</td>\n      <td>8.47</td>\n    </tr>\n    <tr>\n      <td>17</td>\n      <td>20</td>\n      <td>MIN</td>\n      <td>Minnesota Timberwolves</td>\n      <td>W</td>\n      <td>36.0</td>\n      <td>46.0</td>\n      <td>0.439</td>\n      <td>-1.50</td>\n      <td>112.04</td>\n      <td>113.54</td>\n      <td>-1.51</td>\n    </tr>\n    <tr>\n      <td>18</td>\n      <td>21</td>\n      <td>NOP</td>\n      <td>New Orleans Pelicans</td>\n      <td>W</td>\n      <td>33.0</td>\n      <td>49.0</td>\n      <td>0.402</td>\n      <td>-1.33</td>\n      <td>111.85</td>\n      <td>113.10</td>\n      <td>-1.25</td>\n    </tr>\n    <tr>\n      <td>19</td>\n      <td>29</td>\n      <td>NYK</td>\n      <td>New York Knicks</td>\n      <td>E</td>\n      <td>17.0</td>\n      <td>65.0</td>\n      <td>0.207</td>\n      <td>-9.21</td>\n      <td>105.13</td>\n      <td>114.39</td>\n      <td>-9.26</td>\n    </tr>\n    <tr>\n      <td>20</td>\n      <td>9</td>\n      <td>OKC</td>\n      <td>Oklahoma City Thunder</td>\n      <td>W</td>\n      <td>49.0</td>\n      <td>33.0</td>\n      <td>0.598</td>\n      <td>3.40</td>\n      <td>110.85</td>\n      <td>107.53</td>\n      <td>3.31</td>\n    </tr>\n    <tr>\n      <td>21</td>\n      <td>14</td>\n      <td>ORL</td>\n      <td>Orlando Magic</td>\n      <td>E</td>\n      <td>42.0</td>\n      <td>40.0</td>\n      <td>0.512</td>\n      <td>0.71</td>\n      <td>109.46</td>\n      <td>108.82</td>\n      <td>0.65</td>\n    </tr>\n    <tr>\n      <td>22</td>\n      <td>11</td>\n      <td>PHI</td>\n      <td>Philadelphia 76ers</td>\n      <td>E</td>\n      <td>51.0</td>\n      <td>31.0</td>\n      <td>0.622</td>\n      <td>2.70</td>\n      <td>113.21</td>\n      <td>110.58</td>\n      <td>2.64</td>\n    </tr>\n    <tr>\n      <td>23</td>\n      <td>28</td>\n      <td>PHX</td>\n      <td>Phoenix Suns</td>\n      <td>W</td>\n      <td>19.0</td>\n      <td>63.0</td>\n      <td>0.232</td>\n      <td>-9.34</td>\n      <td>106.29</td>\n      <td>115.55</td>\n      <td>-9.26</td>\n    </tr>\n    <tr>\n      <td>24</td>\n      <td>6</td>\n      <td>POR</td>\n      <td>Portland Trail Blazers</td>\n      <td>W</td>\n      <td>53.0</td>\n      <td>29.0</td>\n      <td>0.646</td>\n      <td>4.20</td>\n      <td>115.45</td>\n      <td>111.07</td>\n      <td>4.38</td>\n    </tr>\n    <tr>\n      <td>25</td>\n      <td>18</td>\n      <td>SAC</td>\n      <td>Sacramento Kings</td>\n      <td>W</td>\n      <td>39.0</td>\n      <td>43.0</td>\n      <td>0.476</td>\n      <td>-1.12</td>\n      <td>111.17</td>\n      <td>112.19</td>\n      <td>-1.02</td>\n    </tr>\n    <tr>\n      <td>26</td>\n      <td>12</td>\n      <td>SAS</td>\n      <td>San Antonio Spurs</td>\n      <td>W</td>\n      <td>48.0</td>\n      <td>34.0</td>\n      <td>0.585</td>\n      <td>1.68</td>\n      <td>113.30</td>\n      <td>111.55</td>\n      <td>1.75</td>\n    </tr>\n    <tr>\n      <td>27</td>\n      <td>3</td>\n      <td>TOR</td>\n      <td>Toronto Raptors</td>\n      <td>E</td>\n      <td>58.0</td>\n      <td>24.0</td>\n      <td>0.707</td>\n      <td>6.09</td>\n      <td>113.99</td>\n      <td>108.00</td>\n      <td>5.99</td>\n    </tr>\n    <tr>\n      <td>28</td>\n      <td>4</td>\n      <td>UTA</td>\n      <td>Utah Jazz</td>\n      <td>W</td>\n      <td>50.0</td>\n      <td>32.0</td>\n      <td>0.610</td>\n      <td>5.26</td>\n      <td>111.35</td>\n      <td>106.11</td>\n      <td>5.24</td>\n    </tr>\n    <tr>\n      <td>29</td>\n      <td>25</td>\n      <td>WAS</td>\n      <td>Washington Wizards</td>\n      <td>E</td>\n      <td>32.0</td>\n      <td>50.0</td>\n      <td>0.390</td>\n      <td>-2.90</td>\n      <td>111.72</td>\n      <td>114.56</td>\n      <td>-2.84</td>\n    </tr>\n  </tbody>\n</table>\n</div>",
      "text/plain": "    id  Key                    Team Conf     W     L   W/L%   MOV    ORtg  \\\n0   26  ATL           Atlanta Hawks    E  29.0  53.0  0.354 -6.02  108.71   \n1    8  BOS          Boston Celtics    E  49.0  33.0  0.598  4.44  112.78   \n2   16  BKN           Brooklyn Nets    E  42.0  40.0  0.512 -0.07  110.30   \n3   23  CHA       Charlotte Hornets    E  39.0  43.0  0.476 -1.10  112.10   \n4   27  CHI           Chicago Bulls    E  22.0  60.0  0.268 -8.41  105.45   \n5   30  CLE     Cleveland Cavaliers    E  19.0  63.0  0.232 -9.61  108.50   \n6   19  DAL        Dallas Mavericks    W  33.0  49.0  0.402 -1.28  110.19   \n7    7  DEN          Denver Nuggets    W  54.0  28.0  0.659  3.95  113.76   \n8   17  DET         Detroit Pistons    E  41.0  41.0  0.500 -0.24  109.93   \n9    2  GSW   Golden State Warriors    W  57.0  25.0  0.695  6.46  116.63   \n10   5  HOU         Houston Rockets    W  53.0  29.0  0.646  4.77  116.25   \n11  10  IND          Indiana Pacers    E  48.0  34.0  0.585  3.33  110.62   \n12  13  LAC    Los Angeles Clippers    W  48.0  34.0  0.585  0.85  113.14   \n13  22  LAL      Los Angeles Lakers    W  37.0  45.0  0.451 -1.72  108.52   \n14  24  MEM       Memphis Grizzlies    W  33.0  49.0  0.402 -2.60  106.96   \n15  15  MIA              Miami Heat    E  39.0  43.0  0.476 -0.23  108.22   \n16   1  MIL         Milwaukee Bucks    E  60.0  22.0  0.732  8.87  114.23   \n17  20  MIN  Minnesota Timberwolves    W  36.0  46.0  0.439 -1.50  112.04   \n18  21  NOP    New Orleans Pelicans    W  33.0  49.0  0.402 -1.33  111.85   \n19  29  NYK         New York Knicks    E  17.0  65.0  0.207 -9.21  105.13   \n20   9  OKC   Oklahoma City Thunder    W  49.0  33.0  0.598  3.40  110.85   \n21  14  ORL           Orlando Magic    E  42.0  40.0  0.512  0.71  109.46   \n22  11  PHI      Philadelphia 76ers    E  51.0  31.0  0.622  2.70  113.21   \n23  28  PHX            Phoenix Suns    W  19.0  63.0  0.232 -9.34  106.29   \n24   6  POR  Portland Trail Blazers    W  53.0  29.0  0.646  4.20  115.45   \n25  18  SAC        Sacramento Kings    W  39.0  43.0  0.476 -1.12  111.17   \n26  12  SAS       San Antonio Spurs    W  48.0  34.0  0.585  1.68  113.30   \n27   3  TOR         Toronto Raptors    E  58.0  24.0  0.707  6.09  113.99   \n28   4  UTA               Utah Jazz    W  50.0  32.0  0.610  5.26  111.35   \n29  25  WAS      Washington Wizards    E  32.0  50.0  0.390 -2.90  111.72   \n\n      DRtg   NRtg  \n0   114.41  -5.70  \n1   108.35   4.43  \n2   110.36  -0.06  \n3   113.16  -1.06  \n4   113.94  -8.49  \n5   118.54 -10.04  \n6   111.41  -1.22  \n7   109.62   4.14  \n8   110.13  -0.20  \n9   110.24   6.39  \n10  111.43   4.82  \n11  107.23   3.39  \n12  112.33   0.81  \n13  110.18  -1.66  \n14  109.66  -2.70  \n15  108.35  -0.13  \n16  105.76   8.47  \n17  113.54  -1.51  \n18  113.10  -1.25  \n19  114.39  -9.26  \n20  107.53   3.31  \n21  108.82   0.65  \n22  110.58   2.64  \n23  115.55  -9.26  \n24  111.07   4.38  \n25  112.19  -1.02  \n26  111.55   1.75  \n27  108.00   5.99  \n28  106.11   5.24  \n29  114.56  -2.84  "
     },
     "execution_count": 46,
     "metadata": {},
     "output_type": "execute_result"
    }
   ],
   "source": [
    "teams_df"
   ]
  },
  {
   "cell_type": "markdown",
   "metadata": {},
   "source": [
    "# Creación de la base de datos"
   ]
  },
  {
   "cell_type": "code",
   "execution_count": 62,
   "metadata": {},
   "outputs": [],
   "source": [
    "#Create BD connectiom\n",
    "sql_data = 'nba_data.db'\n",
    "connection = sqlite.connect(sql_data) "
   ]
  },
  {
   "cell_type": "code",
   "execution_count": 63,
   "metadata": {},
   "outputs": [
    {
     "data": {
      "text/plain": "<sqlite3.Cursor at 0x124b50ce0>"
     },
     "execution_count": 63,
     "metadata": {},
     "output_type": "execute_result"
    }
   ],
   "source": [
    "#Create de execution cursor (Not needed for the moment)\n",
    "cursor = connection.cursor() \n",
    "cursor.executescript('''\n",
    "CREATE TABLE \"PLAYERS\" (\n",
    "\t\"id\"\tINTEGER,\n",
    "\t\"Player\"\tTEXT,\n",
    "\t\"Pos\"\tTEXT,\n",
    "\t\"Age\"\tREAL,\n",
    "\t\"Tm\"\tTEXT,\n",
    "\t\"G\"\tREAL,\n",
    "\t\"GS\"\tREAL,\n",
    "\t\"MP\"\tREAL,\n",
    "\t\"FG\"\tREAL,\n",
    "\t\"FGA\"\tREAL,\n",
    "\t\"FG%\"\tREAL,\n",
    "\t\"3P\"\tREAL,\n",
    "\t\"3PA\"\tREAL,\n",
    "\t\"3P%\"\tREAL,\n",
    "\t\"2P\"\tREAL,\n",
    "\t\"2PA\"\tREAL,\n",
    "\t\"2P%\"\tREAL,\n",
    "\t\"FT\"\tREAL,\n",
    "\t\"FTA\"\tREAL,\n",
    "\t\"FT%\"\tREAL,\n",
    "\t\"ORB\"\tREAL,\n",
    "\t\"DRB\"\tREAL,\n",
    "\t\"TRB\"\tREAL,\n",
    "\t\"AST\"\tREAL,\n",
    "\t\"STL\"\tREAL,\n",
    "\t\"BLK\"\tREAL,\n",
    "\t\"TOV\"\tREAL,\n",
    "\t\"PF\"\tREAL,\n",
    "\t\"PTS\"\tREAL,\n",
    "\tPRIMARY KEY(\"id\")\n",
    ");\n",
    "\n",
    "CREATE TABLE \"ROOKIES\" (\n",
    "\t\"id\"\tINTEGER,\n",
    "\t\"Player\"\tTEXT,\n",
    "\t\"Debut\"\tTEXT,\n",
    "\t\"Age\"\tREAL,\n",
    "\t\"G\"\tREAL,\n",
    "\t\"MP\"\tREAL,\n",
    "\t\"FG\"\tREAL,\n",
    "\t\"FGA\"\tREAL,\n",
    "\t\"3P\"\tREAL,\n",
    "\t\"3PA\"\tREAL,\n",
    "\t\"FT\"\tREAL,\n",
    "\t\"FTA\"\tREAL,\n",
    "\t\"ORB\"\tREAL,\n",
    "\t\"TRB\"\tREAL,\n",
    "\t\"AST\"\tREAL,\n",
    "\t\"STL\"\tREAL,\n",
    "\t\"BLK\"\tREAL,\n",
    "\t\"TOV\"\tREAL,\n",
    "\t\"PF\"\tREAL,\n",
    "\t\"PTS\"\tREAL,\n",
    "\t\"FG%\"\tREAL,\n",
    "\t\"3P%\"\tREAL,\n",
    "\t\"FT%\"\tREAL,\n",
    "\tPRIMARY KEY(\"id\")\n",
    ");\n",
    "\n",
    "CREATE TABLE \"TEAMS\" (\n",
    "\t\"id\"\tINTEGER,\n",
    "\t\"Key\"\tTEXT,\n",
    "\t\"Team\"\tTEXT,\n",
    "\t\"Conf\"\tTEXT,\n",
    "\t\"W\"\tREAL,\n",
    "\t\"L\"\tREAL,\n",
    "\t\"W/L%\"\tREAL,\n",
    "\t\"MOV\"\tREAL,\n",
    "\t\"ORtg\"\tREAL,\n",
    "\t\"DRtg\"\tREAL,\n",
    "\t\"NRtg\"\tREAL,\n",
    "\tPRIMARY KEY(\"id\")\n",
    ");\n",
    "\n",
    "CREATE TABLE \"PLAYER_TEAM\" (\n",
    "\t\"id_player\"\tINTEGER,\n",
    "\t\"id_team\"\tINTEGER,\n",
    "\t\"Player\"\tTEXT,\n",
    "\t\"Team\"\tTEXT,\n",
    "\t\"Rookie\"\tINTEGER,\n",
    "\tFOREIGN KEY(\"id_team\") REFERENCES \"TEAMS\"(\"id\"),\n",
    "\tPRIMARY KEY(\"id_player\",\"id_team\"),\n",
    "\tFOREIGN KEY(\"id_player\") REFERENCES \"PLAYERS\"(\"id\"),\n",
    "\tFOREIGN KEY(\"Rookie\") REFERENCES \"ROOKIES\"(\"id\")\n",
    ");\n",
    "\n",
    "'''\n",
    ")"
   ]
  },
  {
   "cell_type": "code",
   "execution_count": 64,
   "metadata": {},
   "outputs": [
    {
     "name": "stdout",
     "output_type": "stream",
     "text": "id_player  id_team                  Player                  Team  Rookie\n0           2       26            Jaylen Adams         Atlanta Hawks       1\n1           5       30               Deng Adel   Cleveland Cavaliers       2\n2           6        7  DeVaughn Akoon-Purcell        Denver Nuggets       3\n3           8       27            Rawle Alkins         Chicago Bulls       4\n4           9        4           Grayson Allen             Utah Jazz       5\n..        ...      ...                     ...                   ...     ...\n73        698       24           Yuta Watanabe     Memphis Grizzlies     108\n74        699        7            Thomas Welsh        Denver Nuggets     111\n75        707       22      Johnathan Williams    Los Angeles Lakers     112\n76        708       21        Kenrich Williams  New Orleans Pelicans     113\n77        725       26              Trae Young         Atlanta Hawks     115\n\n[78 rows x 5 columns]\n"
    }
   ],
   "source": [
    "\n",
    "#Load players_df in DB\n",
    "players_df.to_sql('PLAYERS', connection, if_exists='append', index=False) \n",
    "\n",
    "#Load teams_df in DB\n",
    "teams_df.to_sql('TEAMS', connection, if_exists='append', index=False)\n",
    "\n",
    "#Load rookies_df in DB\n",
    "rookies_df.to_sql('ROOKIES', connection, if_exists='append', index=False)\n",
    "\n",
    "#Load central_df in DB\n",
    "central_df.to_sql('PLAYER_TEAM', connection, if_exists='append', index=False)\n",
    "\n",
    "#Show that the loading is been successfully\n",
    "print(pd.read_sql(\"SELECT * FROM PLAYER_TEAM WHERE Rookie NOT NULL ;\", connection))\n",
    "\n",
    "\n",
    "\n",
    "#Close the connection with the DB\n",
    "connection.close() \n",
    "\n"
   ]
  },
  {
   "cell_type": "code",
   "execution_count": null,
   "metadata": {},
   "outputs": [],
   "source": []
  }
 ],
 "metadata": {
  "kernelspec": {
   "display_name": "Python 3",
   "language": "python",
   "name": "python3"
  },
  "language_info": {
   "codemirror_mode": {
    "name": "ipython",
    "version": 3
   },
   "file_extension": ".py",
   "mimetype": "text/x-python",
   "name": "python",
   "nbconvert_exporter": "python",
   "pygments_lexer": "ipython3",
   "version": "3.7.6-final"
  }
 },
 "nbformat": 4,
 "nbformat_minor": 4
}